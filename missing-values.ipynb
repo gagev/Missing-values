{
 "cells": [
  {
   "cell_type": "code",
   "execution_count": 8,
   "id": "9a5a7295",
   "metadata": {},
   "outputs": [],
   "source": [
    "using CSV\n",
    "using DataFrames"
   ]
  },
  {
   "cell_type": "code",
   "execution_count": 9,
   "id": "c5184d0f",
   "metadata": {},
   "outputs": [
    {
     "data": {
      "text/html": [
       "<table class=\"data-frame\"><thead><tr><th></th><th>PID</th><th>ST_NUM</th><th>ST_NAME</th><th>OWN_OCCUPIED</th><th>NUM_BEDROOMS</th><th>NUM_BATH</th><th>SQ_FT</th></tr><tr><th></th><th>Int64?</th><th>String?</th><th>String</th><th>String?</th><th>String</th><th>String</th><th>String?</th></tr></thead><tbody><p>9 rows × 7 columns</p><tr><th>1</th><td>100001000</td><td>104</td><td>PUTNAM</td><td>Y</td><td>3</td><td>1</td><td>1000</td></tr><tr><th>2</th><td>100002000</td><td>197</td><td>LEXINGTON</td><td>N</td><td>3</td><td>1.5</td><td>--</td></tr><tr><th>3</th><td>100003000</td><td><em>missing</em></td><td>LEXINGTON</td><td>N</td><td>n/a</td><td>1</td><td>850</td></tr><tr><th>4</th><td>100004000</td><td>201</td><td>BERKELEY</td><td>12</td><td>1</td><td>NaN</td><td>700</td></tr><tr><th>5</th><td><em>missing</em></td><td>203</td><td>BERKELEY</td><td>Y</td><td>3</td><td>2</td><td>1600</td></tr><tr><th>6</th><td>100006000</td><td>207</td><td>BERKELEY</td><td>Y</td><td>NA</td><td>1</td><td>800</td></tr><tr><th>7</th><td>100007000</td><td>NA</td><td>WASHINGTON</td><td><em>missing</em></td><td>2</td><td>HURLEY</td><td>950</td></tr><tr><th>8</th><td>100008000</td><td>213</td><td>TREMONT</td><td>Y</td><td>1</td><td>1</td><td><em>missing</em></td></tr><tr><th>9</th><td>100009000</td><td>215</td><td>TREMONT</td><td>Y</td><td>na</td><td>2</td><td>1800</td></tr></tbody></table>"
      ],
      "text/latex": [
       "\\begin{tabular}{r|ccccccc}\n",
       "\t& PID & ST\\_NUM & ST\\_NAME & OWN\\_OCCUPIED & NUM\\_BEDROOMS & NUM\\_BATH & SQ\\_FT\\\\\n",
       "\t\\hline\n",
       "\t& Int64? & String? & String & String? & String & String & String?\\\\\n",
       "\t\\hline\n",
       "\t1 & 100001000 & 104 & PUTNAM & Y & 3 & 1 & 1000 \\\\\n",
       "\t2 & 100002000 & 197 & LEXINGTON & N & 3 & 1.5 & -- \\\\\n",
       "\t3 & 100003000 & \\emph{missing} & LEXINGTON & N & n/a & 1 & 850 \\\\\n",
       "\t4 & 100004000 & 201 & BERKELEY & 12 & 1 & NaN & 700 \\\\\n",
       "\t5 & \\emph{missing} & 203 & BERKELEY & Y & 3 & 2 & 1600 \\\\\n",
       "\t6 & 100006000 & 207 & BERKELEY & Y & NA & 1 & 800 \\\\\n",
       "\t7 & 100007000 & NA & WASHINGTON & \\emph{missing} & 2 & HURLEY & 950 \\\\\n",
       "\t8 & 100008000 & 213 & TREMONT & Y & 1 & 1 & \\emph{missing} \\\\\n",
       "\t9 & 100009000 & 215 & TREMONT & Y & na & 2 & 1800 \\\\\n",
       "\\end{tabular}\n"
      ],
      "text/plain": [
       "9×7 DataFrame. Omitted printing of 2 columns\n",
       "│ Row │ PID       │ ST_NUM  │ ST_NAME    │ OWN_OCCUPIED │ NUM_BEDROOMS │\n",
       "│     │ \u001b[90mInt64?\u001b[39m    │ \u001b[90mString?\u001b[39m │ \u001b[90mString\u001b[39m     │ \u001b[90mString?\u001b[39m      │ \u001b[90mString\u001b[39m       │\n",
       "├─────┼───────────┼─────────┼────────────┼──────────────┼──────────────┤\n",
       "│ 1   │ 100001000 │ 104     │ PUTNAM     │ Y            │ 3            │\n",
       "│ 2   │ 100002000 │ 197     │ LEXINGTON  │ N            │ 3            │\n",
       "│ 3   │ 100003000 │ \u001b[90mmissing\u001b[39m │ LEXINGTON  │ N            │ n/a          │\n",
       "│ 4   │ 100004000 │ 201     │ BERKELEY   │ 12           │ 1            │\n",
       "│ 5   │ \u001b[90mmissing\u001b[39m   │ 203     │ BERKELEY   │ Y            │ 3            │\n",
       "│ 6   │ 100006000 │ 207     │ BERKELEY   │ Y            │ NA           │\n",
       "│ 7   │ 100007000 │ NA      │ WASHINGTON │ \u001b[90mmissing\u001b[39m      │ 2            │\n",
       "│ 8   │ 100008000 │ 213     │ TREMONT    │ Y            │ 1            │\n",
       "│ 9   │ 100009000 │ 215     │ TREMONT    │ Y            │ na           │"
      ]
     },
     "execution_count": 9,
     "metadata": {},
     "output_type": "execute_result"
    }
   ],
   "source": [
    "df = CSV.read(\"property data.csv\",DataFrame)"
   ]
  },
  {
   "cell_type": "code",
   "execution_count": 10,
   "id": "bf3c23a6",
   "metadata": {},
   "outputs": [
    {
     "data": {
      "text/plain": [
       "count_missing_values (generic function with 1 method)"
      ]
     },
     "execution_count": 10,
     "metadata": {},
     "output_type": "execute_result"
    }
   ],
   "source": [
    "function count_missing_values(df)\n",
    "    cols = names(df)\n",
    "    mv = Vector{Int8}()\n",
    "    @inbounds for col in cols\n",
    "        nbmv = count(ismissing, df[col])\n",
    "        append!(mv,nbmv)\n",
    "    end\n",
    "    df = DataFrame(cols=cols, values=mv, values_in_pourcentage=mv/length(cols))\n",
    "    \n",
    "    return df\n",
    "end"
   ]
  },
  {
   "cell_type": "code",
   "execution_count": null,
   "id": "0400e44a",
   "metadata": {},
   "outputs": [],
   "source": [
    "coun"
   ]
  },
  {
   "cell_type": "code",
   "execution_count": null,
   "id": "70fa330a",
   "metadata": {},
   "outputs": [],
   "source": []
  },
  {
   "cell_type": "code",
   "execution_count": null,
   "id": "6fef2c49",
   "metadata": {},
   "outputs": [],
   "source": []
  },
  {
   "cell_type": "code",
   "execution_count": null,
   "id": "e4b02704",
   "metadata": {},
   "outputs": [],
   "source": []
  },
  {
   "cell_type": "code",
   "execution_count": null,
   "id": "6069bc2a",
   "metadata": {},
   "outputs": [],
   "source": []
  }
 ],
 "metadata": {
  "kernelspec": {
   "display_name": "Julia 1.7.1",
   "language": "julia",
   "name": "julia-1.7"
  },
  "language_info": {
   "file_extension": ".jl",
   "mimetype": "application/julia",
   "name": "julia",
   "version": "1.7.1"
  }
 },
 "nbformat": 4,
 "nbformat_minor": 5
}
